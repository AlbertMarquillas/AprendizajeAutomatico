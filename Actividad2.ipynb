{
 "cells": [
  {
   "cell_type": "markdown",
   "metadata": {
    "id": "yyODZcWH_-qO"
   },
   "source": [
    "# ACTIVIDAD 2 - REDES DE NEURONAS Y MÁQUINAS DE VECTOR DE SOPORTE"
   ]
  },
  {
   "cell_type": "markdown",
   "metadata": {
    "id": "ik4QzLncqi78"
   },
   "source": [
    "Esta actividad trata sobre la comparación entre las máquinas de vector de soporte y las redes neuronales, hecha por Albert Marquillas Estruch."
   ]
  },
  {
   "cell_type": "markdown",
   "metadata": {
    "id": "SDSGP_bXG4R1"
   },
   "source": [
    "# 1. Preparación del entorno "
   ]
  },
  {
   "cell_type": "markdown",
   "metadata": {
    "id": "OY_NpLAkVigA"
   },
   "source": [
    "#### Importación de librerías"
   ]
  },
  {
   "cell_type": "code",
   "execution_count": 1,
   "metadata": {
    "id": "9zOjTnu5mCnF"
   },
   "outputs": [],
   "source": [
    "import warnings\n",
    "warnings.filterwarnings(\"ignore\")\n",
    "\n",
    "import pandas as pd\n",
    "import numpy as np\n",
    "\n",
    "# Representacion y graficos\n",
    "import matplotlib.pyplot as plt\n",
    "import seaborn as sns\n",
    "\n",
    "from sklearn.model_selection import train_test_split, StratifiedKFold\n",
    "from sklearn.metrics import  plot_confusion_matrix, accuracy_score, confusion_matrix\n",
    "from sklearn import svm\n",
    "from sklearn.neural_network import MLPClassifier\n",
    "from sklearn.preprocessing import MinMaxScaler"
   ]
  },
  {
   "cell_type": "markdown",
   "metadata": {
    "id": "0_8UgxTdYFEa"
   },
   "source": [
    "#### Cargar el dataframe"
   ]
  },
  {
   "cell_type": "code",
   "execution_count": 2,
   "metadata": {
    "id": "OwpbKdf_XKcH"
   },
   "outputs": [],
   "source": [
    "df = pd.read_csv(\"datasets_train.csv\")"
   ]
  },
  {
   "cell_type": "markdown",
   "metadata": {
    "id": "fkF-ojjoH9GF"
   },
   "source": [
    "# 2. Análisis descriptivo de los datos"
   ]
  },
  {
   "cell_type": "markdown",
   "metadata": {},
   "source": [
    "#### Muestra de los datos"
   ]
  },
  {
   "cell_type": "code",
   "execution_count": 3,
   "metadata": {},
   "outputs": [
    {
     "data": {
      "text/html": [
       "<div>\n",
       "<style scoped>\n",
       "    .dataframe tbody tr th:only-of-type {\n",
       "        vertical-align: middle;\n",
       "    }\n",
       "\n",
       "    .dataframe tbody tr th {\n",
       "        vertical-align: top;\n",
       "    }\n",
       "\n",
       "    .dataframe thead th {\n",
       "        text-align: right;\n",
       "    }\n",
       "</style>\n",
       "<table border=\"1\" class=\"dataframe\">\n",
       "  <thead>\n",
       "    <tr style=\"text-align: right;\">\n",
       "      <th></th>\n",
       "      <th>battery_power</th>\n",
       "      <th>blue</th>\n",
       "      <th>clock_speed</th>\n",
       "      <th>dual_sim</th>\n",
       "      <th>fc</th>\n",
       "      <th>four_g</th>\n",
       "      <th>int_memory</th>\n",
       "      <th>m_dep</th>\n",
       "      <th>mobile_wt</th>\n",
       "      <th>n_cores</th>\n",
       "      <th>...</th>\n",
       "      <th>px_height</th>\n",
       "      <th>px_width</th>\n",
       "      <th>ram</th>\n",
       "      <th>sc_h</th>\n",
       "      <th>sc_w</th>\n",
       "      <th>talk_time</th>\n",
       "      <th>three_g</th>\n",
       "      <th>touch_screen</th>\n",
       "      <th>wifi</th>\n",
       "      <th>price_range</th>\n",
       "    </tr>\n",
       "  </thead>\n",
       "  <tbody>\n",
       "    <tr>\n",
       "      <th>0</th>\n",
       "      <td>842</td>\n",
       "      <td>0</td>\n",
       "      <td>2.2</td>\n",
       "      <td>0</td>\n",
       "      <td>1</td>\n",
       "      <td>0</td>\n",
       "      <td>7</td>\n",
       "      <td>0.6</td>\n",
       "      <td>188</td>\n",
       "      <td>2</td>\n",
       "      <td>...</td>\n",
       "      <td>20</td>\n",
       "      <td>756</td>\n",
       "      <td>2549</td>\n",
       "      <td>9</td>\n",
       "      <td>7</td>\n",
       "      <td>19</td>\n",
       "      <td>0</td>\n",
       "      <td>0</td>\n",
       "      <td>1</td>\n",
       "      <td>1</td>\n",
       "    </tr>\n",
       "    <tr>\n",
       "      <th>1</th>\n",
       "      <td>1021</td>\n",
       "      <td>1</td>\n",
       "      <td>0.5</td>\n",
       "      <td>1</td>\n",
       "      <td>0</td>\n",
       "      <td>1</td>\n",
       "      <td>53</td>\n",
       "      <td>0.7</td>\n",
       "      <td>136</td>\n",
       "      <td>3</td>\n",
       "      <td>...</td>\n",
       "      <td>905</td>\n",
       "      <td>1988</td>\n",
       "      <td>2631</td>\n",
       "      <td>17</td>\n",
       "      <td>3</td>\n",
       "      <td>7</td>\n",
       "      <td>1</td>\n",
       "      <td>1</td>\n",
       "      <td>0</td>\n",
       "      <td>2</td>\n",
       "    </tr>\n",
       "    <tr>\n",
       "      <th>2</th>\n",
       "      <td>563</td>\n",
       "      <td>1</td>\n",
       "      <td>0.5</td>\n",
       "      <td>1</td>\n",
       "      <td>2</td>\n",
       "      <td>1</td>\n",
       "      <td>41</td>\n",
       "      <td>0.9</td>\n",
       "      <td>145</td>\n",
       "      <td>5</td>\n",
       "      <td>...</td>\n",
       "      <td>1263</td>\n",
       "      <td>1716</td>\n",
       "      <td>2603</td>\n",
       "      <td>11</td>\n",
       "      <td>2</td>\n",
       "      <td>9</td>\n",
       "      <td>1</td>\n",
       "      <td>1</td>\n",
       "      <td>0</td>\n",
       "      <td>2</td>\n",
       "    </tr>\n",
       "    <tr>\n",
       "      <th>3</th>\n",
       "      <td>615</td>\n",
       "      <td>1</td>\n",
       "      <td>2.5</td>\n",
       "      <td>0</td>\n",
       "      <td>0</td>\n",
       "      <td>0</td>\n",
       "      <td>10</td>\n",
       "      <td>0.8</td>\n",
       "      <td>131</td>\n",
       "      <td>6</td>\n",
       "      <td>...</td>\n",
       "      <td>1216</td>\n",
       "      <td>1786</td>\n",
       "      <td>2769</td>\n",
       "      <td>16</td>\n",
       "      <td>8</td>\n",
       "      <td>11</td>\n",
       "      <td>1</td>\n",
       "      <td>0</td>\n",
       "      <td>0</td>\n",
       "      <td>2</td>\n",
       "    </tr>\n",
       "    <tr>\n",
       "      <th>4</th>\n",
       "      <td>1821</td>\n",
       "      <td>1</td>\n",
       "      <td>1.2</td>\n",
       "      <td>0</td>\n",
       "      <td>13</td>\n",
       "      <td>1</td>\n",
       "      <td>44</td>\n",
       "      <td>0.6</td>\n",
       "      <td>141</td>\n",
       "      <td>2</td>\n",
       "      <td>...</td>\n",
       "      <td>1208</td>\n",
       "      <td>1212</td>\n",
       "      <td>1411</td>\n",
       "      <td>8</td>\n",
       "      <td>2</td>\n",
       "      <td>15</td>\n",
       "      <td>1</td>\n",
       "      <td>1</td>\n",
       "      <td>0</td>\n",
       "      <td>1</td>\n",
       "    </tr>\n",
       "  </tbody>\n",
       "</table>\n",
       "<p>5 rows × 21 columns</p>\n",
       "</div>"
      ],
      "text/plain": [
       "   battery_power  blue  clock_speed  dual_sim  fc  four_g  int_memory  m_dep  \\\n",
       "0            842     0          2.2         0   1       0           7    0.6   \n",
       "1           1021     1          0.5         1   0       1          53    0.7   \n",
       "2            563     1          0.5         1   2       1          41    0.9   \n",
       "3            615     1          2.5         0   0       0          10    0.8   \n",
       "4           1821     1          1.2         0  13       1          44    0.6   \n",
       "\n",
       "   mobile_wt  n_cores  ...  px_height  px_width   ram  sc_h  sc_w  talk_time  \\\n",
       "0        188        2  ...         20       756  2549     9     7         19   \n",
       "1        136        3  ...        905      1988  2631    17     3          7   \n",
       "2        145        5  ...       1263      1716  2603    11     2          9   \n",
       "3        131        6  ...       1216      1786  2769    16     8         11   \n",
       "4        141        2  ...       1208      1212  1411     8     2         15   \n",
       "\n",
       "   three_g  touch_screen  wifi  price_range  \n",
       "0        0             0     1            1  \n",
       "1        1             1     0            2  \n",
       "2        1             1     0            2  \n",
       "3        1             0     0            2  \n",
       "4        1             1     0            1  \n",
       "\n",
       "[5 rows x 21 columns]"
      ]
     },
     "execution_count": 3,
     "metadata": {},
     "output_type": "execute_result"
    }
   ],
   "source": [
    "df[:5]"
   ]
  },
  {
   "cell_type": "markdown",
   "metadata": {
    "id": "1CT2uNIYbSH7"
   },
   "source": [
    "##### Variables categóricas y numéricas \n",
    "\n",
    "Se separan las variables categóricas de las variables numéricas del dataset de esta actividad y se muestran los dos grupos por pantalla."
   ]
  },
  {
   "cell_type": "code",
   "execution_count": 4,
   "metadata": {
    "colab": {
     "base_uri": "https://localhost:8080/"
    },
    "id": "yz0E1AhUa4qe",
    "outputId": "07df174b-4689-4d88-b315-18dc2acc6a2d"
   },
   "outputs": [
    {
     "name": "stdout",
     "output_type": "stream",
     "text": [
      "Datos categoricos: []\n",
      "\n",
      "Datos numericos: ['battery_power', 'blue', 'clock_speed', 'dual_sim', 'fc', 'four_g', 'int_memory', 'm_dep', 'mobile_wt', 'n_cores', 'pc', 'px_height', 'px_width', 'ram', 'sc_h', 'sc_w', 'talk_time', 'three_g', 'touch_screen', 'wifi', 'price_range']\n"
     ]
    }
   ],
   "source": [
    "numericos = [f for f in df.columns if df.dtypes[f] != 'object']\n",
    "\n",
    "categoricos = [f for f in df.columns if df.dtypes[f] == 'object']\n",
    "\n",
    "print(\"Datos categoricos: {}\".format(categoricos))\n",
    "print()\n",
    "print(\"Datos numericos: {}\".format(numericos))"
   ]
  },
  {
   "cell_type": "markdown",
   "metadata": {},
   "source": [
    "Se puede ver como todas las variables son marcadas como numéricas, ya que las que en realidad son categóricas tienen números asignados, y realizar la separación no es tan simple. Para ello será necesario trabajar los datos de forma correcta.\n",
    "\n",
    "Como primera premisa para la separación, si una variable tiene más de 10 valores distintos se considerará numérica, ya que más de 10 clases ya tendría demasiada cantidad de ellas. \n",
    "\n",
    "Por otro lado, si la variable tiene 2 clases, se considerará directamente como categórica, ya que son solo 2 opciones y no sería acertado tener esas variables como numéricas.\n",
    "\n",
    "Para el resto de variables, se analizarán y según la característica se decidirá que sean numéricas o no."
   ]
  },
  {
   "cell_type": "code",
   "execution_count": 5,
   "metadata": {},
   "outputs": [
    {
     "data": {
      "text/plain": [
       "ram              1562\n",
       "px_height        1137\n",
       "px_width         1109\n",
       "battery_power    1094\n",
       "mobile_wt         121\n",
       "int_memory         63\n",
       "clock_speed        26\n",
       "pc                 21\n",
       "fc                 20\n",
       "sc_w               19\n",
       "talk_time          19\n",
       "sc_h               15\n",
       "m_dep              10\n",
       "n_cores             8\n",
       "price_range         4\n",
       "wifi                2\n",
       "three_g             2\n",
       "four_g              2\n",
       "dual_sim            2\n",
       "touch_screen        2\n",
       "blue                2\n",
       "dtype: int64"
      ]
     },
     "execution_count": 5,
     "metadata": {},
     "output_type": "execute_result"
    }
   ],
   "source": [
    "df.nunique().sort_values(ascending=False)"
   ]
  },
  {
   "cell_type": "markdown",
   "metadata": {},
   "source": [
    "Utilizando las suposiciones comentadas, solo quedan por revisar las variables de `m_dep`, `n_cores` y `price_range`. Para ello se van a mostrar estas variables solas para poder determinar del tipo que son."
   ]
  },
  {
   "cell_type": "code",
   "execution_count": 6,
   "metadata": {},
   "outputs": [
    {
     "data": {
      "text/html": [
       "<div>\n",
       "<style scoped>\n",
       "    .dataframe tbody tr th:only-of-type {\n",
       "        vertical-align: middle;\n",
       "    }\n",
       "\n",
       "    .dataframe tbody tr th {\n",
       "        vertical-align: top;\n",
       "    }\n",
       "\n",
       "    .dataframe thead th {\n",
       "        text-align: right;\n",
       "    }\n",
       "</style>\n",
       "<table border=\"1\" class=\"dataframe\">\n",
       "  <thead>\n",
       "    <tr style=\"text-align: right;\">\n",
       "      <th></th>\n",
       "      <th>m_dep</th>\n",
       "      <th>n_cores</th>\n",
       "      <th>price_range</th>\n",
       "    </tr>\n",
       "  </thead>\n",
       "  <tbody>\n",
       "    <tr>\n",
       "      <th>0</th>\n",
       "      <td>0.6</td>\n",
       "      <td>2</td>\n",
       "      <td>1</td>\n",
       "    </tr>\n",
       "    <tr>\n",
       "      <th>1</th>\n",
       "      <td>0.7</td>\n",
       "      <td>3</td>\n",
       "      <td>2</td>\n",
       "    </tr>\n",
       "    <tr>\n",
       "      <th>2</th>\n",
       "      <td>0.9</td>\n",
       "      <td>5</td>\n",
       "      <td>2</td>\n",
       "    </tr>\n",
       "    <tr>\n",
       "      <th>3</th>\n",
       "      <td>0.8</td>\n",
       "      <td>6</td>\n",
       "      <td>2</td>\n",
       "    </tr>\n",
       "    <tr>\n",
       "      <th>4</th>\n",
       "      <td>0.6</td>\n",
       "      <td>2</td>\n",
       "      <td>1</td>\n",
       "    </tr>\n",
       "    <tr>\n",
       "      <th>...</th>\n",
       "      <td>...</td>\n",
       "      <td>...</td>\n",
       "      <td>...</td>\n",
       "    </tr>\n",
       "    <tr>\n",
       "      <th>1995</th>\n",
       "      <td>0.8</td>\n",
       "      <td>6</td>\n",
       "      <td>0</td>\n",
       "    </tr>\n",
       "    <tr>\n",
       "      <th>1996</th>\n",
       "      <td>0.2</td>\n",
       "      <td>4</td>\n",
       "      <td>2</td>\n",
       "    </tr>\n",
       "    <tr>\n",
       "      <th>1997</th>\n",
       "      <td>0.7</td>\n",
       "      <td>8</td>\n",
       "      <td>3</td>\n",
       "    </tr>\n",
       "    <tr>\n",
       "      <th>1998</th>\n",
       "      <td>0.1</td>\n",
       "      <td>5</td>\n",
       "      <td>0</td>\n",
       "    </tr>\n",
       "    <tr>\n",
       "      <th>1999</th>\n",
       "      <td>0.9</td>\n",
       "      <td>6</td>\n",
       "      <td>3</td>\n",
       "    </tr>\n",
       "  </tbody>\n",
       "</table>\n",
       "<p>2000 rows × 3 columns</p>\n",
       "</div>"
      ],
      "text/plain": [
       "      m_dep  n_cores  price_range\n",
       "0       0.6        2            1\n",
       "1       0.7        3            2\n",
       "2       0.9        5            2\n",
       "3       0.8        6            2\n",
       "4       0.6        2            1\n",
       "...     ...      ...          ...\n",
       "1995    0.8        6            0\n",
       "1996    0.2        4            2\n",
       "1997    0.7        8            3\n",
       "1998    0.1        5            0\n",
       "1999    0.9        6            3\n",
       "\n",
       "[2000 rows x 3 columns]"
      ]
     },
     "execution_count": 6,
     "metadata": {},
     "output_type": "execute_result"
    }
   ],
   "source": [
    "df[[\"m_dep\",\"n_cores\",\"price_range\"]]"
   ]
  },
  {
   "cell_type": "markdown",
   "metadata": {},
   "source": [
    "En este caso, como la variable de `m_dep` tiene valores menores a 1, se considera numérica, ya que no tendría sentido una variable categórica con estos valores.\n",
    "\n",
    "La variable `n_cores`, también se considerará numérica, ya que el número de cores en un móvil es un valor numérico que varía entre ellos y no se considera que pueda pertenecer a una clase.\n",
    "\n",
    "Por último, la variable de `price_range`, que será la variable de interés, se puede intuir que será una variable categórica debido a que categoriza los rangos de los precios en 4 clases distintas, por lo tanto, esta será considerada como categórica.\n",
    "\n",
    "A continuación se convierten a categóricas las variables que no lo son."
   ]
  },
  {
   "cell_type": "code",
   "execution_count": 7,
   "metadata": {},
   "outputs": [],
   "source": [
    "transform_vars = [\"blue\",\"price_range\",\"wifi\",\"three_g\",\"four_g\",\"dual_sim\",\"touch_screen\"]\n",
    "\n",
    "for col in transform_vars:\n",
    "    df[col] = df[col].astype('object')"
   ]
  },
  {
   "cell_type": "markdown",
   "metadata": {},
   "source": [
    "Una vez las variables están correctamente asignadas, se vuelve a mostrar la división."
   ]
  },
  {
   "cell_type": "code",
   "execution_count": 8,
   "metadata": {},
   "outputs": [
    {
     "name": "stdout",
     "output_type": "stream",
     "text": [
      "Datos categoricos: ['blue', 'dual_sim', 'four_g', 'three_g', 'touch_screen', 'wifi', 'price_range']\n",
      "\n",
      "Datos numericos: ['battery_power', 'clock_speed', 'fc', 'int_memory', 'm_dep', 'mobile_wt', 'n_cores', 'pc', 'px_height', 'px_width', 'ram', 'sc_h', 'sc_w', 'talk_time']\n"
     ]
    }
   ],
   "source": [
    "numericos = [f for f in df.columns if df.dtypes[f] != 'object']\n",
    "\n",
    "categoricos = [f for f in df.columns if df.dtypes[f] == 'object']\n",
    "\n",
    "print(\"Datos categoricos: {}\".format(categoricos))\n",
    "print()\n",
    "print(\"Datos numericos: {}\".format(numericos))"
   ]
  },
  {
   "cell_type": "markdown",
   "metadata": {
    "id": "fcxuw5GKbiTm"
   },
   "source": [
    "#### Datos estadísticos de las variables numéricas\n",
    "\n",
    "De las variables numéricas se muestran los distintos datos de media, mediana, mínimo, máximo y cuartiles."
   ]
  },
  {
   "cell_type": "code",
   "execution_count": 9,
   "metadata": {
    "colab": {
     "base_uri": "https://localhost:8080/",
     "height": 307
    },
    "id": "zTpqFRLsbf0N",
    "outputId": "ece537ff-9406-43cd-d213-7b7f26b6d43c",
    "scrolled": true
   },
   "outputs": [
    {
     "data": {
      "text/html": [
       "<div>\n",
       "<style scoped>\n",
       "    .dataframe tbody tr th:only-of-type {\n",
       "        vertical-align: middle;\n",
       "    }\n",
       "\n",
       "    .dataframe tbody tr th {\n",
       "        vertical-align: top;\n",
       "    }\n",
       "\n",
       "    .dataframe thead th {\n",
       "        text-align: right;\n",
       "    }\n",
       "</style>\n",
       "<table border=\"1\" class=\"dataframe\">\n",
       "  <thead>\n",
       "    <tr style=\"text-align: right;\">\n",
       "      <th></th>\n",
       "      <th>battery_power</th>\n",
       "      <th>clock_speed</th>\n",
       "      <th>fc</th>\n",
       "      <th>int_memory</th>\n",
       "      <th>m_dep</th>\n",
       "      <th>mobile_wt</th>\n",
       "      <th>n_cores</th>\n",
       "      <th>pc</th>\n",
       "      <th>px_height</th>\n",
       "      <th>px_width</th>\n",
       "      <th>ram</th>\n",
       "      <th>sc_h</th>\n",
       "      <th>sc_w</th>\n",
       "      <th>talk_time</th>\n",
       "    </tr>\n",
       "  </thead>\n",
       "  <tbody>\n",
       "    <tr>\n",
       "      <th>count</th>\n",
       "      <td>2000.000000</td>\n",
       "      <td>2000.000000</td>\n",
       "      <td>2000.000000</td>\n",
       "      <td>2000.000000</td>\n",
       "      <td>2000.000000</td>\n",
       "      <td>2000.000000</td>\n",
       "      <td>2000.000000</td>\n",
       "      <td>2000.000000</td>\n",
       "      <td>2000.000000</td>\n",
       "      <td>2000.000000</td>\n",
       "      <td>2000.000000</td>\n",
       "      <td>2000.000000</td>\n",
       "      <td>2000.000000</td>\n",
       "      <td>2000.000000</td>\n",
       "    </tr>\n",
       "    <tr>\n",
       "      <th>mean</th>\n",
       "      <td>1238.518500</td>\n",
       "      <td>1.522250</td>\n",
       "      <td>4.309500</td>\n",
       "      <td>32.046500</td>\n",
       "      <td>0.501750</td>\n",
       "      <td>140.249000</td>\n",
       "      <td>4.520500</td>\n",
       "      <td>9.916500</td>\n",
       "      <td>645.108000</td>\n",
       "      <td>1251.515500</td>\n",
       "      <td>2124.213000</td>\n",
       "      <td>12.306500</td>\n",
       "      <td>5.767000</td>\n",
       "      <td>11.011000</td>\n",
       "    </tr>\n",
       "    <tr>\n",
       "      <th>std</th>\n",
       "      <td>439.418206</td>\n",
       "      <td>0.816004</td>\n",
       "      <td>4.341444</td>\n",
       "      <td>18.145715</td>\n",
       "      <td>0.288416</td>\n",
       "      <td>35.399655</td>\n",
       "      <td>2.287837</td>\n",
       "      <td>6.064315</td>\n",
       "      <td>443.780811</td>\n",
       "      <td>432.199447</td>\n",
       "      <td>1084.732044</td>\n",
       "      <td>4.213245</td>\n",
       "      <td>4.356398</td>\n",
       "      <td>5.463955</td>\n",
       "    </tr>\n",
       "    <tr>\n",
       "      <th>min</th>\n",
       "      <td>501.000000</td>\n",
       "      <td>0.500000</td>\n",
       "      <td>0.000000</td>\n",
       "      <td>2.000000</td>\n",
       "      <td>0.100000</td>\n",
       "      <td>80.000000</td>\n",
       "      <td>1.000000</td>\n",
       "      <td>0.000000</td>\n",
       "      <td>0.000000</td>\n",
       "      <td>500.000000</td>\n",
       "      <td>256.000000</td>\n",
       "      <td>5.000000</td>\n",
       "      <td>0.000000</td>\n",
       "      <td>2.000000</td>\n",
       "    </tr>\n",
       "    <tr>\n",
       "      <th>25%</th>\n",
       "      <td>851.750000</td>\n",
       "      <td>0.700000</td>\n",
       "      <td>1.000000</td>\n",
       "      <td>16.000000</td>\n",
       "      <td>0.200000</td>\n",
       "      <td>109.000000</td>\n",
       "      <td>3.000000</td>\n",
       "      <td>5.000000</td>\n",
       "      <td>282.750000</td>\n",
       "      <td>874.750000</td>\n",
       "      <td>1207.500000</td>\n",
       "      <td>9.000000</td>\n",
       "      <td>2.000000</td>\n",
       "      <td>6.000000</td>\n",
       "    </tr>\n",
       "    <tr>\n",
       "      <th>50%</th>\n",
       "      <td>1226.000000</td>\n",
       "      <td>1.500000</td>\n",
       "      <td>3.000000</td>\n",
       "      <td>32.000000</td>\n",
       "      <td>0.500000</td>\n",
       "      <td>141.000000</td>\n",
       "      <td>4.000000</td>\n",
       "      <td>10.000000</td>\n",
       "      <td>564.000000</td>\n",
       "      <td>1247.000000</td>\n",
       "      <td>2146.500000</td>\n",
       "      <td>12.000000</td>\n",
       "      <td>5.000000</td>\n",
       "      <td>11.000000</td>\n",
       "    </tr>\n",
       "    <tr>\n",
       "      <th>75%</th>\n",
       "      <td>1615.250000</td>\n",
       "      <td>2.200000</td>\n",
       "      <td>7.000000</td>\n",
       "      <td>48.000000</td>\n",
       "      <td>0.800000</td>\n",
       "      <td>170.000000</td>\n",
       "      <td>7.000000</td>\n",
       "      <td>15.000000</td>\n",
       "      <td>947.250000</td>\n",
       "      <td>1633.000000</td>\n",
       "      <td>3064.500000</td>\n",
       "      <td>16.000000</td>\n",
       "      <td>9.000000</td>\n",
       "      <td>16.000000</td>\n",
       "    </tr>\n",
       "    <tr>\n",
       "      <th>max</th>\n",
       "      <td>1998.000000</td>\n",
       "      <td>3.000000</td>\n",
       "      <td>19.000000</td>\n",
       "      <td>64.000000</td>\n",
       "      <td>1.000000</td>\n",
       "      <td>200.000000</td>\n",
       "      <td>8.000000</td>\n",
       "      <td>20.000000</td>\n",
       "      <td>1960.000000</td>\n",
       "      <td>1998.000000</td>\n",
       "      <td>3998.000000</td>\n",
       "      <td>19.000000</td>\n",
       "      <td>18.000000</td>\n",
       "      <td>20.000000</td>\n",
       "    </tr>\n",
       "  </tbody>\n",
       "</table>\n",
       "</div>"
      ],
      "text/plain": [
       "       battery_power  clock_speed           fc   int_memory        m_dep  \\\n",
       "count    2000.000000  2000.000000  2000.000000  2000.000000  2000.000000   \n",
       "mean     1238.518500     1.522250     4.309500    32.046500     0.501750   \n",
       "std       439.418206     0.816004     4.341444    18.145715     0.288416   \n",
       "min       501.000000     0.500000     0.000000     2.000000     0.100000   \n",
       "25%       851.750000     0.700000     1.000000    16.000000     0.200000   \n",
       "50%      1226.000000     1.500000     3.000000    32.000000     0.500000   \n",
       "75%      1615.250000     2.200000     7.000000    48.000000     0.800000   \n",
       "max      1998.000000     3.000000    19.000000    64.000000     1.000000   \n",
       "\n",
       "         mobile_wt      n_cores           pc    px_height     px_width  \\\n",
       "count  2000.000000  2000.000000  2000.000000  2000.000000  2000.000000   \n",
       "mean    140.249000     4.520500     9.916500   645.108000  1251.515500   \n",
       "std      35.399655     2.287837     6.064315   443.780811   432.199447   \n",
       "min      80.000000     1.000000     0.000000     0.000000   500.000000   \n",
       "25%     109.000000     3.000000     5.000000   282.750000   874.750000   \n",
       "50%     141.000000     4.000000    10.000000   564.000000  1247.000000   \n",
       "75%     170.000000     7.000000    15.000000   947.250000  1633.000000   \n",
       "max     200.000000     8.000000    20.000000  1960.000000  1998.000000   \n",
       "\n",
       "               ram         sc_h         sc_w    talk_time  \n",
       "count  2000.000000  2000.000000  2000.000000  2000.000000  \n",
       "mean   2124.213000    12.306500     5.767000    11.011000  \n",
       "std    1084.732044     4.213245     4.356398     5.463955  \n",
       "min     256.000000     5.000000     0.000000     2.000000  \n",
       "25%    1207.500000     9.000000     2.000000     6.000000  \n",
       "50%    2146.500000    12.000000     5.000000    11.000000  \n",
       "75%    3064.500000    16.000000     9.000000    16.000000  \n",
       "max    3998.000000    19.000000    18.000000    20.000000  "
      ]
     },
     "execution_count": 9,
     "metadata": {},
     "output_type": "execute_result"
    }
   ],
   "source": [
    "df.describe()"
   ]
  },
  {
   "cell_type": "markdown",
   "metadata": {},
   "source": [
    "Viendo estos resultados, ya se puede ver como en las variables numéricas no hay valores faltantes, por lo tanto, la parte correspondiente al tratamiento de missing no será requerida."
   ]
  },
  {
   "cell_type": "markdown",
   "metadata": {
    "id": "TwTSIJSeQf1D"
   },
   "source": [
    "#### Datos de las variables categóricas\n",
    "\n",
    "Para las variables se muestran también los datos estadistícos de estas."
   ]
  },
  {
   "cell_type": "code",
   "execution_count": 10,
   "metadata": {
    "colab": {
     "base_uri": "https://localhost:8080/"
    },
    "id": "VV0E6q4lQda5",
    "outputId": "45bae8e0-5ac3-4a62-fcc2-4cc903ae0304"
   },
   "outputs": [
    {
     "data": {
      "text/html": [
       "<div>\n",
       "<style scoped>\n",
       "    .dataframe tbody tr th:only-of-type {\n",
       "        vertical-align: middle;\n",
       "    }\n",
       "\n",
       "    .dataframe tbody tr th {\n",
       "        vertical-align: top;\n",
       "    }\n",
       "\n",
       "    .dataframe thead th {\n",
       "        text-align: right;\n",
       "    }\n",
       "</style>\n",
       "<table border=\"1\" class=\"dataframe\">\n",
       "  <thead>\n",
       "    <tr style=\"text-align: right;\">\n",
       "      <th></th>\n",
       "      <th>blue</th>\n",
       "      <th>dual_sim</th>\n",
       "      <th>four_g</th>\n",
       "      <th>three_g</th>\n",
       "      <th>touch_screen</th>\n",
       "      <th>wifi</th>\n",
       "      <th>price_range</th>\n",
       "    </tr>\n",
       "  </thead>\n",
       "  <tbody>\n",
       "    <tr>\n",
       "      <th>count</th>\n",
       "      <td>2000</td>\n",
       "      <td>2000</td>\n",
       "      <td>2000</td>\n",
       "      <td>2000</td>\n",
       "      <td>2000</td>\n",
       "      <td>2000</td>\n",
       "      <td>2000</td>\n",
       "    </tr>\n",
       "    <tr>\n",
       "      <th>unique</th>\n",
       "      <td>2</td>\n",
       "      <td>2</td>\n",
       "      <td>2</td>\n",
       "      <td>2</td>\n",
       "      <td>2</td>\n",
       "      <td>2</td>\n",
       "      <td>4</td>\n",
       "    </tr>\n",
       "    <tr>\n",
       "      <th>top</th>\n",
       "      <td>0</td>\n",
       "      <td>1</td>\n",
       "      <td>1</td>\n",
       "      <td>1</td>\n",
       "      <td>1</td>\n",
       "      <td>1</td>\n",
       "      <td>3</td>\n",
       "    </tr>\n",
       "    <tr>\n",
       "      <th>freq</th>\n",
       "      <td>1010</td>\n",
       "      <td>1019</td>\n",
       "      <td>1043</td>\n",
       "      <td>1523</td>\n",
       "      <td>1006</td>\n",
       "      <td>1014</td>\n",
       "      <td>500</td>\n",
       "    </tr>\n",
       "  </tbody>\n",
       "</table>\n",
       "</div>"
      ],
      "text/plain": [
       "        blue  dual_sim  four_g  three_g  touch_screen  wifi  price_range\n",
       "count   2000      2000    2000     2000          2000  2000         2000\n",
       "unique     2         2       2        2             2     2            4\n",
       "top        0         1       1        1             1     1            3\n",
       "freq    1010      1019    1043     1523          1006  1014          500"
      ]
     },
     "execution_count": 10,
     "metadata": {},
     "output_type": "execute_result"
    }
   ],
   "source": [
    "df.describe(include='object')"
   ]
  },
  {
   "cell_type": "markdown",
   "metadata": {},
   "source": [
    "Todas las variables categóricas menos la de `price_range` tienen solo dos categorías, por lo tanto las proporciones de cada clase se pueden extraer de este resumen, se puede ver como estas categorías están muy balanceadas con casi una repartición de 50% en cada clase, pero para la categoría de interés de rango de precio no es posible, por lo tanto, se muestra el resumen de esta a continuación."
   ]
  },
  {
   "cell_type": "code",
   "execution_count": 11,
   "metadata": {},
   "outputs": [
    {
     "data": {
      "text/plain": [
       "3    500\n",
       "2    500\n",
       "1    500\n",
       "0    500\n",
       "Name: price_range, dtype: int64"
      ]
     },
     "execution_count": 11,
     "metadata": {},
     "output_type": "execute_result"
    }
   ],
   "source": [
    "pd.value_counts(df[\"price_range\"])"
   ]
  },
  {
   "cell_type": "markdown",
   "metadata": {},
   "source": [
    "Se puede ver que tiene una distribución perfecta de las categorías, está totalmente balanceada."
   ]
  },
  {
   "cell_type": "markdown",
   "metadata": {
    "id": "R8DiFz38Qzy3"
   },
   "source": [
    "#### Correlaciones de los datos numéricos\n",
    "\n",
    "Primero de todo, se encuentra la matriz de correlación con las variables numéricas."
   ]
  },
  {
   "cell_type": "code",
   "execution_count": 12,
   "metadata": {
    "colab": {
     "base_uri": "https://localhost:8080/",
     "height": 1000
    },
    "id": "Ye04GkffQzW5",
    "outputId": "608fdeb6-b451-4f70-aea0-cf6ab5d7038a"
   },
   "outputs": [
    {
     "data": {
      "text/html": [
       "<div>\n",
       "<style scoped>\n",
       "    .dataframe tbody tr th:only-of-type {\n",
       "        vertical-align: middle;\n",
       "    }\n",
       "\n",
       "    .dataframe tbody tr th {\n",
       "        vertical-align: top;\n",
       "    }\n",
       "\n",
       "    .dataframe thead th {\n",
       "        text-align: right;\n",
       "    }\n",
       "</style>\n",
       "<table border=\"1\" class=\"dataframe\">\n",
       "  <thead>\n",
       "    <tr style=\"text-align: right;\">\n",
       "      <th></th>\n",
       "      <th>battery_power</th>\n",
       "      <th>clock_speed</th>\n",
       "      <th>fc</th>\n",
       "      <th>int_memory</th>\n",
       "      <th>m_dep</th>\n",
       "      <th>mobile_wt</th>\n",
       "      <th>n_cores</th>\n",
       "      <th>pc</th>\n",
       "      <th>px_height</th>\n",
       "      <th>px_width</th>\n",
       "      <th>ram</th>\n",
       "      <th>sc_h</th>\n",
       "      <th>sc_w</th>\n",
       "      <th>talk_time</th>\n",
       "    </tr>\n",
       "  </thead>\n",
       "  <tbody>\n",
       "    <tr>\n",
       "      <th>battery_power</th>\n",
       "      <td>1.000000</td>\n",
       "      <td>0.011482</td>\n",
       "      <td>0.033334</td>\n",
       "      <td>-0.004004</td>\n",
       "      <td>0.034085</td>\n",
       "      <td>0.001844</td>\n",
       "      <td>-0.029727</td>\n",
       "      <td>0.031441</td>\n",
       "      <td>0.014901</td>\n",
       "      <td>-0.008402</td>\n",
       "      <td>-0.000653</td>\n",
       "      <td>-0.029959</td>\n",
       "      <td>-0.021421</td>\n",
       "      <td>0.052510</td>\n",
       "    </tr>\n",
       "    <tr>\n",
       "      <th>clock_speed</th>\n",
       "      <td>0.011482</td>\n",
       "      <td>1.000000</td>\n",
       "      <td>-0.000434</td>\n",
       "      <td>0.006545</td>\n",
       "      <td>-0.014364</td>\n",
       "      <td>0.012350</td>\n",
       "      <td>-0.005724</td>\n",
       "      <td>-0.005245</td>\n",
       "      <td>-0.014523</td>\n",
       "      <td>-0.009476</td>\n",
       "      <td>0.003443</td>\n",
       "      <td>-0.029078</td>\n",
       "      <td>-0.007378</td>\n",
       "      <td>-0.011432</td>\n",
       "    </tr>\n",
       "    <tr>\n",
       "      <th>fc</th>\n",
       "      <td>0.033334</td>\n",
       "      <td>-0.000434</td>\n",
       "      <td>1.000000</td>\n",
       "      <td>-0.029133</td>\n",
       "      <td>-0.001791</td>\n",
       "      <td>0.023618</td>\n",
       "      <td>-0.013356</td>\n",
       "      <td>0.644595</td>\n",
       "      <td>-0.009990</td>\n",
       "      <td>-0.005176</td>\n",
       "      <td>0.015099</td>\n",
       "      <td>-0.011014</td>\n",
       "      <td>-0.012373</td>\n",
       "      <td>-0.006829</td>\n",
       "    </tr>\n",
       "    <tr>\n",
       "      <th>int_memory</th>\n",
       "      <td>-0.004004</td>\n",
       "      <td>0.006545</td>\n",
       "      <td>-0.029133</td>\n",
       "      <td>1.000000</td>\n",
       "      <td>0.006886</td>\n",
       "      <td>-0.034214</td>\n",
       "      <td>-0.028310</td>\n",
       "      <td>-0.033273</td>\n",
       "      <td>0.010441</td>\n",
       "      <td>-0.008335</td>\n",
       "      <td>0.032813</td>\n",
       "      <td>0.037771</td>\n",
       "      <td>0.011731</td>\n",
       "      <td>-0.002790</td>\n",
       "    </tr>\n",
       "    <tr>\n",
       "      <th>m_dep</th>\n",
       "      <td>0.034085</td>\n",
       "      <td>-0.014364</td>\n",
       "      <td>-0.001791</td>\n",
       "      <td>0.006886</td>\n",
       "      <td>1.000000</td>\n",
       "      <td>0.021756</td>\n",
       "      <td>-0.003504</td>\n",
       "      <td>0.026282</td>\n",
       "      <td>0.025263</td>\n",
       "      <td>0.023566</td>\n",
       "      <td>-0.009434</td>\n",
       "      <td>-0.025348</td>\n",
       "      <td>-0.018388</td>\n",
       "      <td>0.017003</td>\n",
       "    </tr>\n",
       "    <tr>\n",
       "      <th>mobile_wt</th>\n",
       "      <td>0.001844</td>\n",
       "      <td>0.012350</td>\n",
       "      <td>0.023618</td>\n",
       "      <td>-0.034214</td>\n",
       "      <td>0.021756</td>\n",
       "      <td>1.000000</td>\n",
       "      <td>-0.018989</td>\n",
       "      <td>0.018844</td>\n",
       "      <td>0.000939</td>\n",
       "      <td>0.000090</td>\n",
       "      <td>-0.002581</td>\n",
       "      <td>-0.033855</td>\n",
       "      <td>-0.020761</td>\n",
       "      <td>0.006209</td>\n",
       "    </tr>\n",
       "    <tr>\n",
       "      <th>n_cores</th>\n",
       "      <td>-0.029727</td>\n",
       "      <td>-0.005724</td>\n",
       "      <td>-0.013356</td>\n",
       "      <td>-0.028310</td>\n",
       "      <td>-0.003504</td>\n",
       "      <td>-0.018989</td>\n",
       "      <td>1.000000</td>\n",
       "      <td>-0.001193</td>\n",
       "      <td>-0.006872</td>\n",
       "      <td>0.024480</td>\n",
       "      <td>0.004868</td>\n",
       "      <td>-0.000315</td>\n",
       "      <td>0.025826</td>\n",
       "      <td>0.013148</td>\n",
       "    </tr>\n",
       "    <tr>\n",
       "      <th>pc</th>\n",
       "      <td>0.031441</td>\n",
       "      <td>-0.005245</td>\n",
       "      <td>0.644595</td>\n",
       "      <td>-0.033273</td>\n",
       "      <td>0.026282</td>\n",
       "      <td>0.018844</td>\n",
       "      <td>-0.001193</td>\n",
       "      <td>1.000000</td>\n",
       "      <td>-0.018465</td>\n",
       "      <td>0.004196</td>\n",
       "      <td>0.028984</td>\n",
       "      <td>0.004938</td>\n",
       "      <td>-0.023819</td>\n",
       "      <td>0.014657</td>\n",
       "    </tr>\n",
       "    <tr>\n",
       "      <th>px_height</th>\n",
       "      <td>0.014901</td>\n",
       "      <td>-0.014523</td>\n",
       "      <td>-0.009990</td>\n",
       "      <td>0.010441</td>\n",
       "      <td>0.025263</td>\n",
       "      <td>0.000939</td>\n",
       "      <td>-0.006872</td>\n",
       "      <td>-0.018465</td>\n",
       "      <td>1.000000</td>\n",
       "      <td>0.510664</td>\n",
       "      <td>-0.020352</td>\n",
       "      <td>0.059615</td>\n",
       "      <td>0.043038</td>\n",
       "      <td>-0.010645</td>\n",
       "    </tr>\n",
       "    <tr>\n",
       "      <th>px_width</th>\n",
       "      <td>-0.008402</td>\n",
       "      <td>-0.009476</td>\n",
       "      <td>-0.005176</td>\n",
       "      <td>-0.008335</td>\n",
       "      <td>0.023566</td>\n",
       "      <td>0.000090</td>\n",
       "      <td>0.024480</td>\n",
       "      <td>0.004196</td>\n",
       "      <td>0.510664</td>\n",
       "      <td>1.000000</td>\n",
       "      <td>0.004105</td>\n",
       "      <td>0.021599</td>\n",
       "      <td>0.034699</td>\n",
       "      <td>0.006720</td>\n",
       "    </tr>\n",
       "    <tr>\n",
       "      <th>ram</th>\n",
       "      <td>-0.000653</td>\n",
       "      <td>0.003443</td>\n",
       "      <td>0.015099</td>\n",
       "      <td>0.032813</td>\n",
       "      <td>-0.009434</td>\n",
       "      <td>-0.002581</td>\n",
       "      <td>0.004868</td>\n",
       "      <td>0.028984</td>\n",
       "      <td>-0.020352</td>\n",
       "      <td>0.004105</td>\n",
       "      <td>1.000000</td>\n",
       "      <td>0.015996</td>\n",
       "      <td>0.035576</td>\n",
       "      <td>0.010820</td>\n",
       "    </tr>\n",
       "    <tr>\n",
       "      <th>sc_h</th>\n",
       "      <td>-0.029959</td>\n",
       "      <td>-0.029078</td>\n",
       "      <td>-0.011014</td>\n",
       "      <td>0.037771</td>\n",
       "      <td>-0.025348</td>\n",
       "      <td>-0.033855</td>\n",
       "      <td>-0.000315</td>\n",
       "      <td>0.004938</td>\n",
       "      <td>0.059615</td>\n",
       "      <td>0.021599</td>\n",
       "      <td>0.015996</td>\n",
       "      <td>1.000000</td>\n",
       "      <td>0.506144</td>\n",
       "      <td>-0.017335</td>\n",
       "    </tr>\n",
       "    <tr>\n",
       "      <th>sc_w</th>\n",
       "      <td>-0.021421</td>\n",
       "      <td>-0.007378</td>\n",
       "      <td>-0.012373</td>\n",
       "      <td>0.011731</td>\n",
       "      <td>-0.018388</td>\n",
       "      <td>-0.020761</td>\n",
       "      <td>0.025826</td>\n",
       "      <td>-0.023819</td>\n",
       "      <td>0.043038</td>\n",
       "      <td>0.034699</td>\n",
       "      <td>0.035576</td>\n",
       "      <td>0.506144</td>\n",
       "      <td>1.000000</td>\n",
       "      <td>-0.022821</td>\n",
       "    </tr>\n",
       "    <tr>\n",
       "      <th>talk_time</th>\n",
       "      <td>0.052510</td>\n",
       "      <td>-0.011432</td>\n",
       "      <td>-0.006829</td>\n",
       "      <td>-0.002790</td>\n",
       "      <td>0.017003</td>\n",
       "      <td>0.006209</td>\n",
       "      <td>0.013148</td>\n",
       "      <td>0.014657</td>\n",
       "      <td>-0.010645</td>\n",
       "      <td>0.006720</td>\n",
       "      <td>0.010820</td>\n",
       "      <td>-0.017335</td>\n",
       "      <td>-0.022821</td>\n",
       "      <td>1.000000</td>\n",
       "    </tr>\n",
       "  </tbody>\n",
       "</table>\n",
       "</div>"
      ],
      "text/plain": [
       "               battery_power  clock_speed        fc  int_memory     m_dep  \\\n",
       "battery_power       1.000000     0.011482  0.033334   -0.004004  0.034085   \n",
       "clock_speed         0.011482     1.000000 -0.000434    0.006545 -0.014364   \n",
       "fc                  0.033334    -0.000434  1.000000   -0.029133 -0.001791   \n",
       "int_memory         -0.004004     0.006545 -0.029133    1.000000  0.006886   \n",
       "m_dep               0.034085    -0.014364 -0.001791    0.006886  1.000000   \n",
       "mobile_wt           0.001844     0.012350  0.023618   -0.034214  0.021756   \n",
       "n_cores            -0.029727    -0.005724 -0.013356   -0.028310 -0.003504   \n",
       "pc                  0.031441    -0.005245  0.644595   -0.033273  0.026282   \n",
       "px_height           0.014901    -0.014523 -0.009990    0.010441  0.025263   \n",
       "px_width           -0.008402    -0.009476 -0.005176   -0.008335  0.023566   \n",
       "ram                -0.000653     0.003443  0.015099    0.032813 -0.009434   \n",
       "sc_h               -0.029959    -0.029078 -0.011014    0.037771 -0.025348   \n",
       "sc_w               -0.021421    -0.007378 -0.012373    0.011731 -0.018388   \n",
       "talk_time           0.052510    -0.011432 -0.006829   -0.002790  0.017003   \n",
       "\n",
       "               mobile_wt   n_cores        pc  px_height  px_width       ram  \\\n",
       "battery_power   0.001844 -0.029727  0.031441   0.014901 -0.008402 -0.000653   \n",
       "clock_speed     0.012350 -0.005724 -0.005245  -0.014523 -0.009476  0.003443   \n",
       "fc              0.023618 -0.013356  0.644595  -0.009990 -0.005176  0.015099   \n",
       "int_memory     -0.034214 -0.028310 -0.033273   0.010441 -0.008335  0.032813   \n",
       "m_dep           0.021756 -0.003504  0.026282   0.025263  0.023566 -0.009434   \n",
       "mobile_wt       1.000000 -0.018989  0.018844   0.000939  0.000090 -0.002581   \n",
       "n_cores        -0.018989  1.000000 -0.001193  -0.006872  0.024480  0.004868   \n",
       "pc              0.018844 -0.001193  1.000000  -0.018465  0.004196  0.028984   \n",
       "px_height       0.000939 -0.006872 -0.018465   1.000000  0.510664 -0.020352   \n",
       "px_width        0.000090  0.024480  0.004196   0.510664  1.000000  0.004105   \n",
       "ram            -0.002581  0.004868  0.028984  -0.020352  0.004105  1.000000   \n",
       "sc_h           -0.033855 -0.000315  0.004938   0.059615  0.021599  0.015996   \n",
       "sc_w           -0.020761  0.025826 -0.023819   0.043038  0.034699  0.035576   \n",
       "talk_time       0.006209  0.013148  0.014657  -0.010645  0.006720  0.010820   \n",
       "\n",
       "                   sc_h      sc_w  talk_time  \n",
       "battery_power -0.029959 -0.021421   0.052510  \n",
       "clock_speed   -0.029078 -0.007378  -0.011432  \n",
       "fc            -0.011014 -0.012373  -0.006829  \n",
       "int_memory     0.037771  0.011731  -0.002790  \n",
       "m_dep         -0.025348 -0.018388   0.017003  \n",
       "mobile_wt     -0.033855 -0.020761   0.006209  \n",
       "n_cores       -0.000315  0.025826   0.013148  \n",
       "pc             0.004938 -0.023819   0.014657  \n",
       "px_height      0.059615  0.043038  -0.010645  \n",
       "px_width       0.021599  0.034699   0.006720  \n",
       "ram            0.015996  0.035576   0.010820  \n",
       "sc_h           1.000000  0.506144  -0.017335  \n",
       "sc_w           0.506144  1.000000  -0.022821  \n",
       "talk_time     -0.017335 -0.022821   1.000000  "
      ]
     },
     "execution_count": 12,
     "metadata": {},
     "output_type": "execute_result"
    }
   ],
   "source": [
    "df.corr(method=\"pearson\")"
   ]
  },
  {
   "cell_type": "markdown",
   "metadata": {
    "id": "3eFwIwmRQ_gh"
   },
   "source": [
    "Para poder identificar mejor las variables correlacionadas entre sí, se ha realizado un mapa de calor, donde los valores de correlación mayores a 0.75 son mostrados en blanco."
   ]
  },
  {
   "cell_type": "code",
   "execution_count": 13,
   "metadata": {
    "colab": {
     "base_uri": "https://localhost:8080/",
     "height": 656
    },
    "id": "or0iWQ2GMkR2",
    "outputId": "e059b5fb-8f55-4e1b-fbf7-b1c726d136c8"
   },
   "outputs": [
    {
     "data": {
      "image/png": "[encoded data removed]",
      "text/plain": [
       "<Figure size 720x720 with 2 Axes>"
      ]
     },
     "metadata": {
      "needs_background": "light"
     },
     "output_type": "display_data"
    }
   ],
   "source": [
    "train = df\n",
    "columns = df.corr(method=\"pearson\")[\"battery_power\"].sort_values(ascending=False)[:].index\n",
    "\n",
    "corr = train[columns].corr(method=\"pearson\")\n",
    "\n",
    "plt.figure(figsize=(10,10))\n",
    "sns.heatmap(corr, vmax=0.75);"
   ]
  },
  {
   "cell_type": "markdown",
   "metadata": {},
   "source": [
    "Como se puede ver, las variables con ellas mismas tienen correlación máxima, pero las correlaciones más importantes fuera de estas son un total de 3:\n",
    "\n",
    "* La más alta de las tres cercana al 0.75 de correlación, pero sin llegar se encuentra entre las variables de `pc` y `fc`, esta correlación tiene un valor de 0.644595. Estas dos variables es normal que estén en cierta medida correlacionadas, ya que la primera es la que indica los megapíxeles de la cámara principal y la otra indica los megapíxeles de la cámara frontal, pero estas son independientes y por lo tanto no se eliminará ninguna de las columnas.\n",
    "\n",
    "\n",
    "* Por otro lado hay correalción entre las variables `px_width` y `px_height`, con un valor de 0.510664. Es entendible que estas variables esten correlacionadas ya que inciden en el mismo elemento, pero no se va a eliminar ninguna columna, ya que no hay suficiente correlación entre ellas.\n",
    "\n",
    "\n",
    "* La última pareja de variables con alta correlación es la de `sc_w` y `sc_h`, con una correlación de 0.506144. Estas miden la pantalla, es normal que las dos estén correlacionadas, ya que las pantallas suelen tener unas medidas estándar, si siempre hubiera la misma relación de pantalla o se supiera la relación de pantalla de cada móvil, una de las dos se podría eliminar, pero como no se tiene esa situación, ambas columnas se mantienen.\n",
    "\n",
    "El resto de variables no tienen ningún tipo de correlación entre ellas, la mayoría tiene valores negativos."
   ]
  },
  {
   "cell_type": "markdown",
   "metadata": {
    "id": "HiUpXTxKSE4r"
   },
   "source": [
    "# 3. Máquinas de vector de soporte"
   ]
  },
  {
   "cell_type": "markdown",
   "metadata": {
    "id": "lBYk2AupRKsJ"
   },
   "source": [
    "El primer tipo de modelo que se utilizará para predecir la clase de interés es la de SVM. Para realizar los modelos, tanto en este caso como para las redes de neuronas será importante realizar pruebas de rendimiento realizando cambios en el mismo modelo o bien en los datos de entrenamiento y test.\n",
    "\n",
    "Pero para poder comparar lo útiles que son estas transformaciones en los datos, primero de todo se creará un modelo sin realizar más cambios que el hecho de modificar las variables categóricas, que no son la de interés, a numéricas, con el propósito de poder usar todas las variables posibles."
   ]
  },
  {
   "cell_type": "markdown",
   "metadata": {},
   "source": [
    "#### Numerizar variables categóricas\n",
    "\n",
    "Un detalle interesante que se puede ver en los datos es que todas las variables categóricas menos la variable a predecir, son de solo dos categorías, cosa que permite solo cambiar su tipo a numérico y ya estarán en el formato adecuado, ya que si se creara una columna nueva por cada una de estas, se crearían columnas totalmente redundantes, ya que con solo 2 clases una sería el inverso del otro, por este motivo, solo se cambia el tipo de la columna.\n",
    "\n",
    "Por otro lado, la variable a clasificar, podría dejarse en formato numérico o bien en formato de cuatro columnas indicando con 1 o 0 si cada fila pertenece a una de las columnas. El cambio de la variable de interés se realizará en las comparaciones posteriores, en esta primera experimentación se deja en forma de categoría en una única columna."
   ]
  },
  {
   "cell_type": "code",
   "execution_count": 14,
   "metadata": {},
   "outputs": [],
   "source": [
    "from sklearn.model_selection import KFold, ShuffleSplit\n",
    "from sklearn.model_selection import train_test_split, StratifiedKFold\n",
    "\n",
    "X = df.iloc[:,:-1]\n",
    "Y = df[\"price_range\"].astype('int64').values\n",
    "\n",
    "for i in X.columns:\n",
    "    if X.dtypes[i] == 'object':\n",
    "        X[i] = X[i].astype('int64')"
   ]
  },
  {
   "cell_type": "markdown",
   "metadata": {},
   "source": [
    "#### Separación de los datos"
   ]
  },
  {
   "cell_type": "markdown",
   "metadata": {},
   "source": [
    "Se separan los datos de forma básica, para el conjunto de entrenamiento se usan un 80% de los datos y para el conjunto de test se usa el 20% restante."
   ]
  },
  {
   "cell_type": "code",
   "execution_count": 15,
   "metadata": {},
   "outputs": [],
   "source": [
    "X_train, X_test, y_train, y_test = train_test_split(X, Y, test_size=0.2, random_state=42)"
   ]
  },
  {
   "cell_type": "markdown",
   "metadata": {},
   "source": [
    "#### Crear modelo\n",
    "\n",
    "Se crea el modelo utilizando máquinas de vector de soporte utilizando el kernel y otras configuraciones por defecto para poder ver los resultados en su forma más básica."
   ]
  },
  {
   "cell_type": "code",
   "execution_count": 16,
   "metadata": {},
   "outputs": [
    {
     "data": {
      "text/plain": [
       "SVC(random_state=42)"
      ]
     },
     "execution_count": 16,
     "metadata": {},
     "output_type": "execute_result"
    }
   ],
   "source": [
    "mvs = svm.SVC(random_state = 42)\n",
    "mvs.fit(X_train,y_train)"
   ]
  },
  {
   "cell_type": "markdown",
   "metadata": {},
   "source": [
    "Una vez se tiene el modelo ya entrenado se procede a encontrar la matriz de confusión y la métrica de exactitud. Para ello se ha creado una función que será útil para el resto de casos."
   ]
  },
  {
   "cell_type": "code",
   "execution_count": 17,
   "metadata": {},
   "outputs": [],
   "source": [
    "def getMetricas(modelo,X_test,y_test):\n",
    "    predicciones = modelo.predict(X_test)\n",
    "    print(\"Exactitud: \",accuracy_score(y_test, predicciones))\n",
    "    disp = plot_confusion_matrix(modelo, X_test, y_test, cmap=plt.cm.Blues)\n",
    "    disp.ax_.set_title(\"Matriz de confusión\")\n",
    "    plt.show()"
   ]
  },
  {
   "cell_type": "code",
   "execution_count": 18,
   "metadata": {},
   "outputs": [
    {
     "name": "stdout",
     "output_type": "stream",
     "text": [
      "Exactitud:  0.965\n"
     ]
    },
    {
     "data": {
      "image/png": "[encoded data removed]",
      "text/plain": [
       "<Figure size 432x288 with 2 Axes>"
      ]
     },
     "metadata": {
      "needs_background": "light"
     },
     "output_type": "display_data"
    }
   ],
   "source": [
    "getMetricas(mvs,X_test,y_test)"
   ]
  },
  {
   "cell_type": "markdown",
   "metadata": {},
   "source": [
    "Como se puede ver, se obtiene una exactitud muy alta, de valor 0.965, lo que indica que este modelo sin usar métodos de mejora ya es muy bueno y se podría considerar totalmente válido para solucionar este problema.\n",
    "\n",
    "Observando la matriz de confusión, en total solo existen un total de 14 predicciones erróneas que es un error mínimo frente al total de 400 predicciones que corresponde al 20% de los datos. Además los errores se encuentran solo entre las clases cercanas, esto significa que un error de predicción de la clase 0 solo será clasificado en la clase 1 y ya no en la 2 y ni mucho menos en la 3.\n",
    "\n",
    "En este caso el modelo ya se podría considerar válido, pero como se ha comentado anteriormente, se experimentará con la normalización de los datos y la validación cruzada."
   ]
  },
  {
   "cell_type": "markdown",
   "metadata": {},
   "source": [
    "#### Normalización de los datos\n",
    "\n",
    "Se normalizan los datos utilizando el MinMaxScaler de la librería sklearn, y se obtienen los nuevos conjuntos de entrenamiento y test."
   ]
  },
  {
   "cell_type": "code",
   "execution_count": 19,
   "metadata": {},
   "outputs": [],
   "source": [
    "scaler = MinMaxScaler()\n",
    "scaled_df = scaler.fit_transform(X)\n",
    "scaled_df = pd.DataFrame(scaled_df, columns=X.columns)\n",
    "\n",
    "X_train, X_test, y_train, y_test = train_test_split(scaled_df, Y, test_size=0.2, random_state=42)"
   ]
  },
  {
   "cell_type": "markdown",
   "metadata": {},
   "source": [
    "Una vez se han obtenido los conjuntos normalizados, se procede a entrenar el modelo y obtener las métricas de error."
   ]
  },
  {
   "cell_type": "code",
   "execution_count": 20,
   "metadata": {},
   "outputs": [
    {
     "name": "stdout",
     "output_type": "stream",
     "text": [
      "Exactitud:  0.8625\n"
     ]
    },
    {
     "data": {
      "image/png": "[encoded data removed]",
      "text/plain": [
       "<Figure size 432x288 with 2 Axes>"
      ]
     },
     "metadata": {
      "needs_background": "light"
     },
     "output_type": "display_data"
    }
   ],
   "source": [
    "mvs.fit(X_train,y_train)\n",
    "getMetricas(mvs,X_test,y_test)"
   ]
  },
  {
   "cell_type": "markdown",
   "metadata": {},
   "source": [
    "En este caso se puede ver como el hecho de realizar la normalización es improducente, ya que se ha obtenido una métrica de exactitud menor que con los datos sin normalizar. Este resultado tiene cierto sentido, ya que el hecho de normalizar los datos, junta mucho más los puntos y es más difícil que el algoritmo encuentre un hiperplano bueno, además el hecho de reducir los valores implica que las variables que antes tenían más peso, al normalizar han perdido ese peso y eso hace que se pierda exactitud en la clasificación."
   ]
  },
  {
   "cell_type": "markdown",
   "metadata": {},
   "source": [
    "#### Cambio kernel\n",
    "\n",
    "Antes de aplicar la validación cruzada a las MVS, se comprobarán los resultados obtenidos cambiando el kernel, para este caso se volverán a usar datos sin normalizar, ya que han dado mejores resultados con el kernel por defecto.\n",
    "\n",
    "Cabe mencionar que se han probado los distintos kernel posibles, y el que ha dado mejores resultados ha sido el lineal, que es el que se muestra a continuación."
   ]
  },
  {
   "cell_type": "code",
   "execution_count": 21,
   "metadata": {},
   "outputs": [],
   "source": [
    "X_train, X_test, y_train, y_test = train_test_split(X, Y, test_size=0.2, random_state=42)"
   ]
  },
  {
   "cell_type": "code",
   "execution_count": 22,
   "metadata": {},
   "outputs": [
    {
     "data": {
      "text/plain": [
       "SVC(kernel='linear', random_state=42)"
      ]
     },
     "execution_count": 22,
     "metadata": {},
     "output_type": "execute_result"
    }
   ],
   "source": [
    "mvs = svm.SVC(kernel='linear',random_state = 42)\n",
    "mvs.fit(X_train,y_train)"
   ]
  },
  {
   "cell_type": "markdown",
   "metadata": {},
   "source": [
    "Una vez entrenado el modelo de MVS con kernel lineal se procede a observar las métricas de error."
   ]
  },
  {
   "cell_type": "code",
   "execution_count": 23,
   "metadata": {},
   "outputs": [
    {
     "name": "stdout",
     "output_type": "stream",
     "text": [
      "Exactitud:  0.97\n"
     ]
    },
    {
     "data": {
      "image/png": "[encoded data removed]",
      "text/plain": [
       "<Figure size 432x288 with 2 Axes>"
      ]
     },
     "metadata": {
      "needs_background": "light"
     },
     "output_type": "display_data"
    }
   ],
   "source": [
    "getMetricas(mvs,X_test,y_test)"
   ]
  },
  {
   "cell_type": "markdown",
   "metadata": {},
   "source": [
    "En este caso, ha mejorado la exactitud en 0.005 por lo tanto el modelo con los datos sin normalizar y con un kernel linear es el que mejores resultados da aunque por un ajustado margen. Un punto negativo que se ha podido detectar del kernel linear es que no es tan rápido crear el modelo como en el caso básico que usa un kernel de función con base radial (rbf)."
   ]
  },
  {
   "cell_type": "markdown",
   "metadata": {},
   "source": [
    "#### Validación cruzada\n",
    "\n",
    "Por último, se realiza la validación cruzada de los datos usando el mejor modelo encontrado para MVS, en este caso es la máquina de vector de soporte con un kernel lineal y con los datos sin normalizar."
   ]
  },
  {
   "cell_type": "code",
   "execution_count": 24,
   "metadata": {},
   "outputs": [],
   "source": [
    "mvs = svm.SVC(kernel='linear',random_state = 42)"
   ]
  },
  {
   "cell_type": "markdown",
   "metadata": {},
   "source": [
    "Se crea una función para automatizar la validación cruzada que será de utilidad también para la red neuronal, esta función realiza la validación de modo que hace 5 folds de los datos, esto quiere decir que para cada uno utiliza un 80% de datos para el entrenamiento y un 20% para el test."
   ]
  },
  {
   "cell_type": "code",
   "execution_count": 25,
   "metadata": {},
   "outputs": [],
   "source": [
    "def crossValidate(model,X,Y):\n",
    "    kf = StratifiedKFold(n_splits = 5, random_state = 42, shuffle = True)\n",
    "    for train_index,test_index in kf.split(X,Y):\n",
    "        X_train, X_test = X.to_numpy()[train_index], X.to_numpy()[test_index]\n",
    "        y_train, y_test = Y[train_index], Y[test_index]\n",
    "        model.fit(X_train,y_train)\n",
    "        predicciones = model.predict(X_test)\n",
    "        print(\"Exactitud: \",accuracy_score(y_test, predicciones))    "
   ]
  },
  {
   "cell_type": "markdown",
   "metadata": {},
   "source": [
    "Se obtienen las distintas exactitudes de la validación cruzada."
   ]
  },
  {
   "cell_type": "code",
   "execution_count": 26,
   "metadata": {},
   "outputs": [
    {
     "name": "stdout",
     "output_type": "stream",
     "text": [
      "Exactitud:  0.9675\n",
      "Exactitud:  0.98\n",
      "Exactitud:  0.9625\n",
      "Exactitud:  0.9675\n",
      "Exactitud:  0.9775\n"
     ]
    }
   ],
   "source": [
    "crossValidate(mvs,X,Y)"
   ]
  },
  {
   "cell_type": "markdown",
   "metadata": {},
   "source": [
    "Se puede ver como aplicando el método de cross validación las exactitudes son poco variantes y se aproximan bastante al valor de 0.97 obtenido antes. El mejor modelo obtenido es el que da una exactitud de 0.98 que es solo 0.01 mejor que el encontrado al utilizar el kernel lineal."
   ]
  },
  {
   "cell_type": "markdown",
   "metadata": {},
   "source": [
    "# 4. Redes neuronales"
   ]
  },
  {
   "cell_type": "markdown",
   "metadata": {},
   "source": [
    "La siguiente forma de realizar la clasificación es utilizando las redes de neuronas, para estas se va a seguir la misma dinámica que para las máquinas de vector de soporte."
   ]
  },
  {
   "cell_type": "markdown",
   "metadata": {},
   "source": [
    "#### Numerizar variables categóricas\n",
    "\n",
    "En este caso se realiza el mismo primer proceso que en las MVS asignando a las categorías el formato numérico."
   ]
  },
  {
   "cell_type": "code",
   "execution_count": 27,
   "metadata": {},
   "outputs": [],
   "source": [
    "X = df.iloc[:,:-1]\n",
    "Y = df[\"price_range\"].astype('int64').values\n",
    "\n",
    "for i in X.columns:\n",
    "    if X.dtypes[i] == 'object':\n",
    "        X[i] = X[i].astype('int64')"
   ]
  },
  {
   "cell_type": "markdown",
   "metadata": {},
   "source": [
    "#### Separación de los datos\n",
    "\n",
    "Se separan los datos en un 80% para el entrenamiento y un 20% para el test."
   ]
  },
  {
   "cell_type": "code",
   "execution_count": 28,
   "metadata": {},
   "outputs": [],
   "source": [
    "X_train, X_test, y_train, y_test = train_test_split(X, Y, test_size=0.2, random_state=42)"
   ]
  },
  {
   "cell_type": "markdown",
   "metadata": {},
   "source": [
    "#### Crear modelo\n",
    "\n",
    "Para las redes de neuronas, el modelo se va a crear sin especificar ni la función de activación ni las capas ocultas de esta, dejando el modelo con las variables por defecto, solo se asigna el valor a random_state para obtener el mismo resultado siempre que se ejecute de nuevo este proceso."
   ]
  },
  {
   "cell_type": "code",
   "execution_count": 29,
   "metadata": {},
   "outputs": [
    {
     "data": {
      "text/plain": [
       "MLPClassifier(random_state=42)"
      ]
     },
     "execution_count": 29,
     "metadata": {},
     "output_type": "execute_result"
    }
   ],
   "source": [
    "rn = MLPClassifier(random_state = 42)\n",
    "rn.fit(X_train,y_train)"
   ]
  },
  {
   "cell_type": "markdown",
   "metadata": {},
   "source": [
    "Una vez entrenado el modelo, se procede a comprobar las métricas de error."
   ]
  },
  {
   "cell_type": "code",
   "execution_count": 30,
   "metadata": {},
   "outputs": [
    {
     "name": "stdout",
     "output_type": "stream",
     "text": [
      "Exactitud:  0.64\n"
     ]
    },
    {
     "data": {
      "image/png": "[encoded data removed]",
      "text/plain": [
       "<Figure size 432x288 with 2 Axes>"
      ]
     },
     "metadata": {
      "needs_background": "light"
     },
     "output_type": "display_data"
    }
   ],
   "source": [
    "getMetricas(rn,X_test,y_test)"
   ]
  },
  {
   "cell_type": "markdown",
   "metadata": {},
   "source": [
    "Como se puede ver, en este caso se obtienen unos resultados bastante malos, con una exactitud de solo 0.64, y observando la matriz de confusión, todas las clases tienen muchos valores mal clasificados y hay desviaciones de hasta 2 clases (clasificaciones de la clase 1 son clasificadas como clase 3, entre otras).\n",
    "\n",
    "Viendo este resultado se descarta totalmente este modelo de clasificación hecho con redes neuronales. Como primera comparación respecto a las MVS, con los datos sin normalizar y con las variables a clasificar en la misma columna, se seleccionaría el modelo de MVS sin ninguna duda."
   ]
  },
  {
   "cell_type": "markdown",
   "metadata": {},
   "source": [
    "#### Normalización de los datos\n",
    "\n",
    "Para las redes neuronales también se van a normalizar los datos para ver si el resultado mejora."
   ]
  },
  {
   "cell_type": "code",
   "execution_count": 31,
   "metadata": {},
   "outputs": [],
   "source": [
    "scaler = MinMaxScaler()\n",
    "scaled_df = scaler.fit_transform(X)\n",
    "scaled_df = pd.DataFrame(scaled_df, columns=X.columns)\n",
    "\n",
    "X_train, X_test, y_train, y_test = train_test_split(scaled_df, Y, test_size=0.2, random_state=42)"
   ]
  },
  {
   "cell_type": "markdown",
   "metadata": {},
   "source": [
    "Se entrena el modelo y se obtienen las métricas de nuevo."
   ]
  },
  {
   "cell_type": "code",
   "execution_count": 32,
   "metadata": {},
   "outputs": [
    {
     "name": "stdout",
     "output_type": "stream",
     "text": [
      "Exactitud:  0.9625\n"
     ]
    },
    {
     "data": {
      "image/png": "[encoded data removed]",
      "text/plain": [
       "<Figure size 432x288 with 2 Axes>"
      ]
     },
     "metadata": {
      "needs_background": "light"
     },
     "output_type": "display_data"
    }
   ],
   "source": [
    "rn.fit(X_train,y_train)\n",
    "getMetricas(rn,X_test,y_test)"
   ]
  },
  {
   "cell_type": "markdown",
   "metadata": {},
   "source": [
    "En este caso, la exactitud de la red neuronal ha aumentado en gran medida a diferencia de cuando se ha aplicado la normalización en las MVS. Se obtiene un valor de exactitud de 0.9625, que es prácticamente el mismo valor que se obtiene con MVS sin normalizar, aun así, por un margen mínimo tienen mejor resultado las MVS."
   ]
  },
  {
   "cell_type": "markdown",
   "metadata": {},
   "source": [
    "#### Cambio red neuronal\n",
    "\n",
    "Igual que con las MVS, se van a realizar cambios en la función de activación de la red neuronal para comprobar se existe mejora respecto a la red neuronal por defecto, en este caso se utilizarán los valores normalizados.\n",
    "\n",
    "Para este caso se han probado las distintas funciones de activación y la que mejores resultados ha dado ha sido la función identidad y es la que se muestra a continuación, pero cabe mencionar que la función tangente hiperbólica ha dado resultados prácticamente igual de buenos.\n",
    "\n",
    "Los otros parámetros se han dejado los valores por defecto."
   ]
  },
  {
   "cell_type": "code",
   "execution_count": 33,
   "metadata": {},
   "outputs": [
    {
     "data": {
      "text/plain": [
       "MLPClassifier(activation='identity', random_state=42)"
      ]
     },
     "execution_count": 33,
     "metadata": {},
     "output_type": "execute_result"
    }
   ],
   "source": [
    "rn = MLPClassifier(activation='identity',random_state = 42)\n",
    "rn.fit(X_train,y_train)"
   ]
  },
  {
   "cell_type": "code",
   "execution_count": 34,
   "metadata": {},
   "outputs": [
    {
     "name": "stdout",
     "output_type": "stream",
     "text": [
      "Exactitud:  0.9725\n"
     ]
    },
    {
     "data": {
      "image/png": "[encoded data removed]",
      "text/plain": [
       "<Figure size 432x288 with 2 Axes>"
      ]
     },
     "metadata": {
      "needs_background": "light"
     },
     "output_type": "display_data"
    }
   ],
   "source": [
    "getMetricas(rn,X_test,y_test)"
   ]
  },
  {
   "cell_type": "markdown",
   "metadata": {},
   "source": [
    "Como se puede ver, la métrica de exactitud es de 0.9725 y es el mayor valor obtenido con las redes neuronales, por lo tanto para la parte de validación cruzada se usará como función de activación la identidad."
   ]
  },
  {
   "cell_type": "markdown",
   "metadata": {},
   "source": [
    "#### Validación cruzada\n",
    "\n",
    "Por último se realiza la validación cruzada, en este caso se realizará con una red neuronal con función de activación del tipo identidad y con los datos normalizados, ya que este formato ha sido el que mejores resultados ha dado."
   ]
  },
  {
   "cell_type": "code",
   "execution_count": 35,
   "metadata": {},
   "outputs": [],
   "source": [
    "rn = MLPClassifier(activation='identity',random_state = 42)"
   ]
  },
  {
   "cell_type": "markdown",
   "metadata": {},
   "source": [
    "Se obtienen las distintas métricas de error."
   ]
  },
  {
   "cell_type": "code",
   "execution_count": 36,
   "metadata": {},
   "outputs": [
    {
     "name": "stdout",
     "output_type": "stream",
     "text": [
      "Exactitud:  0.9475\n",
      "Exactitud:  0.96\n",
      "Exactitud:  0.955\n",
      "Exactitud:  0.9575\n",
      "Exactitud:  0.96\n"
     ]
    }
   ],
   "source": [
    "crossValidate(rn,scaled_df,Y) # Como parametro X se la dan los datos normalizados"
   ]
  },
  {
   "cell_type": "markdown",
   "metadata": {},
   "source": [
    "En este caso se puede ver como la validación cruzada devuelve buenos valores de exactitud, pero todos son peores al modelo encontrado anterior con la función de activación de tipo identidad. Aunque los resultados son peores, no se encuentran demasiado lejos del resultado de ese modelo."
   ]
  },
  {
   "cell_type": "markdown",
   "metadata": {},
   "source": [
    "#### Pruebas extra\n",
    "\n",
    "Como pruebas extra fuera del análisis general se ha decidido ver como en las redes de neuronas puede afectar el hecho de separar la variable de interés en cuatro columnas diferentes para que la red neuronal de un total de cuatro salidas en vez de una salida con cuatro posibilidades.\n",
    "\n",
    "Para realizar esto, el primer paso es cambiar las columnas del dataset a cuatro, para ello se usan las variables escaladas que se han obtenido en anteriores pasos."
   ]
  },
  {
   "cell_type": "code",
   "execution_count": 37,
   "metadata": {},
   "outputs": [],
   "source": [
    "scaled_df[\"price_range\"] = df[\"price_range\"] #Como las variables normalizadas no tienen price_range se añade\n",
    "df_encoded = scaled_df.copy(deep=True)\n",
    "dummy = pd.get_dummies(df_encoded[\"price_range\"])\n",
    "df_encoded = pd.concat([df_encoded,dummy],axis=1)\n",
    "df_encoded = df_encoded.drop(\"price_range\", axis=1)"
   ]
  },
  {
   "cell_type": "markdown",
   "metadata": {},
   "source": [
    "Después de realizar los cambios a la variable de interés, se realiza la separación de los datos de entrenamiento y test como se ha realizado en los otros casos, pero esta vez, las variables de interés son las últimas cuatro del dataset."
   ]
  },
  {
   "cell_type": "code",
   "execution_count": 38,
   "metadata": {},
   "outputs": [],
   "source": [
    "X = df_encoded.iloc[:,:-4]\n",
    "Y = df_encoded.iloc[:,-4:]\n",
    "\n",
    "X_train, X_test, y_train, y_test = train_test_split(X, Y, test_size=0.2, random_state=42)"
   ]
  },
  {
   "cell_type": "markdown",
   "metadata": {},
   "source": [
    "Una vez separados los datos solo queda entrenar el modelo, para este caso se han probado distintos modelos con distintos parámetros, y se ha encontrado que los mejores resultados se obtenían aumentando el número total de máximas iteraciones y manteniendo como función de activación la que está por defecto."
   ]
  },
  {
   "cell_type": "code",
   "execution_count": 39,
   "metadata": {},
   "outputs": [
    {
     "data": {
      "text/plain": [
       "MLPClassifier(max_iter=1000, random_state=42)"
      ]
     },
     "execution_count": 39,
     "metadata": {},
     "output_type": "execute_result"
    }
   ],
   "source": [
    "rn = MLPClassifier(random_state = 42, max_iter = 1000)\n",
    "rn.fit(X_train,y_train)"
   ]
  },
  {
   "cell_type": "markdown",
   "metadata": {},
   "source": [
    "En este caso no es posible usar la función para la matriz de confusión, ya que se deben juntar las predicciones en una sola columna, para ello, si para dos clases el modelo ha predicho que la fila pertenece a ambas se ha seleccionado la de menor valor."
   ]
  },
  {
   "cell_type": "code",
   "execution_count": 40,
   "metadata": {},
   "outputs": [],
   "source": [
    "results = pd.DataFrame(data=rn.predict(X_test))\n",
    "\n",
    "results[\"price_range\"] = results[0] # Solo sirve para crear la columna\n",
    "\n",
    "# Resultados de predicciones\n",
    "for i in range(len(results)):\n",
    "    if results[0][i] == 1:\n",
    "        results[\"price_range\"][i]=0\n",
    "    elif results[1][i] == 1:\n",
    "        results[\"price_range\"][i]=1\n",
    "    elif results[2][i] == 1:\n",
    "        results[\"price_range\"][i]=2\n",
    "    else:\n",
    "        results[\"price_range\"][i]=3\n",
    "        \n",
    "results[\"price_range_real\"] = results[0] # Solo sirve para crear la columna\n",
    "# Resultados reales en una sola columna\n",
    "for j,i in enumerate(y_test[0]):\n",
    "    if i == 1:\n",
    "        results[\"price_range_real\"][j]=0\n",
    "for j,i in enumerate(y_test[1]):\n",
    "    if i == 1:\n",
    "        results[\"price_range_real\"][j]=1\n",
    "for j,i in enumerate(y_test[2]):\n",
    "    if i == 1:\n",
    "        results[\"price_range_real\"][j]=2\n",
    "for j,i in enumerate(y_test[3]):\n",
    "    if i == 1:\n",
    "        results[\"price_range_real\"][j]=3"
   ]
  },
  {
   "cell_type": "markdown",
   "metadata": {},
   "source": [
    "Una vez se tienen tanto los valores predichos como los valores reales en una sola columna cada uno, solo queda encontrar la exactitud y la matriz de confusión, cabe mencionar que en este caso no se puede representar la matriz de confusión utilizando la misma forma que para las otras, ya que en las demás, se creaba utilizando el modelo y la misma función de sklearn la representaba de forma correcta."
   ]
  },
  {
   "cell_type": "code",
   "execution_count": 41,
   "metadata": {},
   "outputs": [
    {
     "name": "stdout",
     "output_type": "stream",
     "text": [
      "Exactitud:  0.935\n"
     ]
    },
    {
     "data": {
      "image/png": "[encoded data removed]",
      "text/plain": [
       "<Figure size 360x288 with 2 Axes>"
      ]
     },
     "metadata": {
      "needs_background": "light"
     },
     "output_type": "display_data"
    }
   ],
   "source": [
    "print(\"Exactitud: \",accuracy_score(results[\"price_range_real\"], results[\"price_range\"]))\n",
    "conf = confusion_matrix(results[\"price_range_real\"], results[\"price_range\"])\n",
    "plt.figure(figsize=(5,4))\n",
    "sns.heatmap(conf, cmap=\"Blues\", fmt='', annot=True);"
   ]
  },
  {
   "cell_type": "markdown",
   "metadata": {},
   "source": [
    "El valor obtenido es peor que en el mejor caso de las redes de neuronas, aunque un valor de exactitud de 0.935 es bastante bueno. Observando la matriz de confusión, se puede identificar una razón de error, esta es que en la columna de la clase 3 hay más de un valor asignado, dando errores de que valores que tendrían que ir a la clase 0 van a la clase 3. Esto es debido a que estos casos específicos la red neuronal no los ha clasificado en ninguna clase, y en el momento en que se han juntado las distintas columnas, si ninguna de ellas no tiene ningún 1, se asignaba a la clase 3.\n",
    "\n",
    "Después de realizar esta prueba, se mantiene como mejor modelo el obtenido anteriormente con la función de activación identidad y con la variable de interés en una misma clase."
   ]
  },
  {
   "cell_type": "markdown",
   "metadata": {},
   "source": [
    "# 5. Conclusiones\n",
    "\n",
    "Comparando ambos clasificadores, en general se han obtenido mejores resultados con las máquinas de vector de soporte.\n",
    "\n",
    "Con las MVS el mejor valor de exactitud obtenido ha sido de 0.98 en la validación cruzada con kernel lineal, mientras que con las redes neuronales el máximo valor de exactitud ha sido de 0.9725 utilizando como función de activación la identidad. La diferencia es prácticamente mínima entre los dos modelos, y por lo tanto ambos modelos son completamente válidos para realizar las predicciones.\n",
    "\n",
    "En este caso se utilizaría el modelo de MVS, ya que ha sido el que mejor valor de exactitud ha devuelto.\n",
    "\n",
    "El hecho de que en los diferentes modelos entrenados se hayan obtenido buenos valores de exactitud y las matrices de correlaciones hayan sido buenas, sin tener en cuenta el modelo de red neuronal con los datos sin normalizar, se debe en gran parte a que el dataset era muy bueno, no tenía datos faltantes y las clases estaban perfectamente balanceadas.\n",
    "\n",
    "Cabe mencionar que ambos modelos tienen ciertas ventajas y desventajas, una clara ventaja que comparten es que ambos son capaces de realizar clasificaciones con muy buenos resultados, pero pot otro lado, ambos son costosos computacionalmente y además son modelos de caja negra que no se puede saber como realizan el proceso de clasificación. Un detalle a destacar de las redes neuronales es que estas pueden clasificar con más de una salida como se ha podido ver en la última experimentación aunque no haya mejorado los resultados finales, en otros casos puede ser de gran utilidad."
   ]
  }
 ],
 "metadata": {
  "colab": {
   "collapsed_sections": [],
   "name": "ML_act1_last.ipynb",
   "provenance": []
  },
  "kernelspec": {
   "display_name": "Python 3",
   "language": "python",
   "name": "python3"
  },
  "language_info": {
   "codemirror_mode": {
    "name": "ipython",
    "version": 3
   },
   "file_extension": ".py",
   "mimetype": "text/x-python",
   "name": "python",
   "nbconvert_exporter": "python",
   "pygments_lexer": "ipython3",
   "version": "3.6.9"
  }
 },
 "nbformat": 4,
 "nbformat_minor": 1
}
